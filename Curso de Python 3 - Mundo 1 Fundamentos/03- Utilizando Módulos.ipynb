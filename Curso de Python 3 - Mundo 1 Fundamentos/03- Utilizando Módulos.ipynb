{
 "cells": [
  {
   "cell_type": "markdown",
   "id": "a514777c",
   "metadata": {},
   "source": [
    "## Utilizando Módulos"
   ]
  },
  {
   "cell_type": "code",
   "execution_count": 5,
   "id": "7edbea36",
   "metadata": {},
   "outputs": [
    {
     "name": "stdout",
     "output_type": "stream",
     "text": [
      "Digite um número: 29\n",
      "A raiz de 29 é igual a 6\n"
     ]
    }
   ],
   "source": [
    "# Importanto módulos\n",
    "import math\n",
    "num = int(input('Digite um número: '))\n",
    "raiz = math.sqrt(num)\n",
    "print('A raiz de {} é igual a {}'.format(num, math.ceil(raiz))) # ceil: arrendonda para cima, floor para baixo."
   ]
  },
  {
   "cell_type": "code",
   "execution_count": 9,
   "id": "02518485",
   "metadata": {},
   "outputs": [
    {
     "name": "stdout",
     "output_type": "stream",
     "text": [
      "Digite um número: 75\n",
      "A raiz de 75 é igual a 8\n"
     ]
    }
   ],
   "source": [
    "# Importando função específica do módulo.\n",
    "from math import sqrt, floor\n",
    "num = int(input('Digite um número: '))\n",
    "raiz = sqrt(num)\n",
    "print('A raiz de {} é igual a {}'.format(num, floor(raiz)))"
   ]
  },
  {
   "cell_type": "code",
   "execution_count": 13,
   "id": "4e4df915",
   "metadata": {},
   "outputs": [
    {
     "name": "stdout",
     "output_type": "stream",
     "text": [
      "5\n"
     ]
    }
   ],
   "source": [
    "import random\n",
    "n = random.randint(1, 10) # random seleciona números aletórios definidos.\n",
    "print(n)"
   ]
  },
  {
   "cell_type": "markdown",
   "id": "837e1360",
   "metadata": {},
   "source": [
    "## Desafios"
   ]
  },
  {
   "cell_type": "code",
   "execution_count": 9,
   "id": "63c2b3a7",
   "metadata": {},
   "outputs": [
    {
     "name": "stdout",
     "output_type": "stream",
     "text": [
      "Digite um valor: 7.334\n",
      "O valor digitado foi 7.334 e a sua porção inteira é 7\n"
     ]
    }
   ],
   "source": [
    "# Desafio 016\n",
    "# Crie um programa que leia um número Real qualquer pelo teclado e mostre na tela a sua porção inteira.\n",
    "# Exemplo: 6.127 > 6.\n",
    "from math import trunc\n",
    "numero = float(input('Digite um valor: '))\n",
    "#print('O valor digitado foi {} e a sua porção inteira é {}'.format(numero, trunc(numero)))\n",
    "print('O valor digitado foi {} e a sua porção inteira é {}'.format(numero, int(numero))) #Sem usar a biblioteca math."
   ]
  },
  {
   "cell_type": "code",
   "execution_count": 14,
   "id": "51b7bfbb",
   "metadata": {},
   "outputs": [
    {
     "name": "stdout",
     "output_type": "stream",
     "text": [
      "Qual o comprimento do cateto oposto: 2\n",
      "Qual o comprimento do cateto adjacente: 2.5\n",
      "A hipotenusa vai medir 3.20\n"
     ]
    }
   ],
   "source": [
    "# Desafio 017\n",
    "# Faça um programa que leia o comprimento do cateto oposto e do cateto adjacente de um triângulo retângulo.\n",
    "# calcule e mostre o comprimento da hipotenusa.\n",
    "from math import hypot\n",
    "cat_op = float(input('Qual o comprimento do cateto oposto: '))\n",
    "cat_ad = float(input('Qual o comprimento do cateto adjacente: '))\n",
    "#print('A hipotenusa vai medir {:.2f}'.format(hypot(cat_op, cat_ad)))\n",
    "print('A hipotenusa vai medir {:.2f}'.format((cat_op ** 2 + cat_ad ** 2) ** (1/2))) #Sem usar a biblioteca math."
   ]
  },
  {
   "cell_type": "code",
   "execution_count": 23,
   "id": "34ca60f6",
   "metadata": {},
   "outputs": [
    {
     "name": "stdout",
     "output_type": "stream",
     "text": [
      "Digite o angulo que você deseja: 45\n",
      "O ângulo de 45.0 tem o SENO de 0.71\n",
      "O ângulo de 45.0 tem o COSSENO de 0.71\n",
      "O ângulo de 45.0 tem o TANGENTE de 1.00\n"
     ]
    }
   ],
   "source": [
    "# Desafio 018\n",
    "# Faça um programa que leia um ângulo qualquer e mostre na tela o valor do seno, cosseno e tangente desse ângulo.\n",
    "from math import radians, sin, cos, tan\n",
    "ang = float(input('Digite o angulo que você deseja: '))\n",
    "print('O ângulo de {} tem o SENO de {:.2f}'.format(ang, sin(radians(ang))))\n",
    "print('O ângulo de {} tem o COSSENO de {:.2f}'.format(ang, cos(radians(ang))))\n",
    "print('O ângulo de {} tem o TANGENTE de {:.2f}'.format(ang, tan(radians(ang))))"
   ]
  },
  {
   "cell_type": "code",
   "execution_count": 33,
   "id": "5e14476f",
   "metadata": {},
   "outputs": [
    {
     "name": "stdout",
     "output_type": "stream",
     "text": [
      "Primeiro aluno: José\n",
      "Segundo aluno: Maria\n",
      "Terceiro aluno: Carlos\n",
      "Quarto aluno: Sinaria\n",
      "====================\n",
      "O aluno escolhido foi Maria.\n"
     ]
    }
   ],
   "source": [
    "# Desafio 019\n",
    "# O professor quer sortear um dos seus quatro alunos para apagar o quadro.\n",
    "# Faça um programa que ajude ele, lendo o nome deles e escrevendo o nome do escolhido.\n",
    "from random import choice\n",
    "aluno1 = str(input('Primeiro aluno: '))\n",
    "aluno2 = str(input('Segundo aluno: '))\n",
    "aluno3 = str(input('Terceiro aluno: '))\n",
    "aluno4 = str(input('Quarto aluno: '))\n",
    "lista = [aluno1, aluno2, aluno3, aluno4]\n",
    "print('=' * 20)\n",
    "print('O aluno escolhido foi {}.'.format(random.choice(lista))) # escolhe um objeto aleatório da lista"
   ]
  },
  {
   "cell_type": "code",
   "execution_count": 43,
   "id": "4b33eb26",
   "metadata": {},
   "outputs": [
    {
     "name": "stdout",
     "output_type": "stream",
     "text": [
      "Primeiro aluno: Carlos\n",
      "Segundo aluno: José\n",
      "Terceiro aluno: Júnior\n",
      "Quarto aluno: Maria\n",
      "====================\n",
      "A ordem de apresentação será:  ['Maria', 'José', 'Carlos', 'Júnior']\n"
     ]
    }
   ],
   "source": [
    "# Desafio 020\n",
    "# O mesmo professor do desafio anterior quer sortear a ordem de apresentação de trabalhos dos alunos.\n",
    "# Faça um programa que leia o nome dos quatro alunos e mostre a ordem sorteada.\n",
    "from random import shuffle\n",
    "aluno1 = str(input('Primeiro aluno: '))\n",
    "aluno2 = str(input('Segundo aluno: '))\n",
    "aluno3 = str(input('Terceiro aluno: '))\n",
    "aluno4 = str(input('Quarto aluno: '))\n",
    "lista = [aluno1, aluno2, aluno3, aluno4]\n",
    "print('=' * 20)\n",
    "shuffle(lista) # embaralha a lista\n",
    "print('A ordem de apresentação será: ', lista)"
   ]
  },
  {
   "cell_type": "code",
   "execution_count": null,
   "id": "b2043d7f",
   "metadata": {},
   "outputs": [],
   "source": [
    "# Desafio 021\n",
    "# Faça um programa em Python que abra e reproduza o áudio de um arquivo MP3.\n",
    "import pygame\n",
    "pygame.init()\n",
    "pygame.mixer.music.load('caminhoarquivo/ex021.mp3')\n",
    "pygame.mixer.music.play()\n",
    "input()\n",
    "pygame.event.wait()"
   ]
  },
  {
   "cell_type": "code",
   "execution_count": null,
   "id": "ee16378c",
   "metadata": {},
   "outputs": [],
   "source": []
  },
  {
   "cell_type": "code",
   "execution_count": null,
   "id": "2b8626f7",
   "metadata": {},
   "outputs": [],
   "source": []
  }
 ],
 "metadata": {
  "kernelspec": {
   "display_name": "Python 3 (ipykernel)",
   "language": "python",
   "name": "python3"
  },
  "language_info": {
   "codemirror_mode": {
    "name": "ipython",
    "version": 3
   },
   "file_extension": ".py",
   "mimetype": "text/x-python",
   "name": "python",
   "nbconvert_exporter": "python",
   "pygments_lexer": "ipython3",
   "version": "3.9.12"
  }
 },
 "nbformat": 4,
 "nbformat_minor": 5
}
