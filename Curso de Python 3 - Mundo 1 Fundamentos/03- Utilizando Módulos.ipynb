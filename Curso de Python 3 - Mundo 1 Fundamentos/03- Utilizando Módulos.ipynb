{
 "cells": [
  {
   "cell_type": "markdown",
   "id": "a514777c",
   "metadata": {},
   "source": [
    "## Utilizando Módulos"
   ]
  },
  {
   "cell_type": "code",
   "execution_count": 5,
   "id": "7edbea36",
   "metadata": {},
   "outputs": [
    {
     "name": "stdout",
     "output_type": "stream",
     "text": [
      "Digite um número: 29\n",
      "A raiz de 29 é igual a 6\n"
     ]
    }
   ],
   "source": [
    "# Importanto módulos\n",
    "import math\n",
    "num = int(input('Digite um número: '))\n",
    "raiz = math.sqrt(num)\n",
    "print('A raiz de {} é igual a {}'.format(num, math.ceil(raiz))) # ceil: arrendonda para cima, floor para baixo."
   ]
  },
  {
   "cell_type": "code",
   "execution_count": 9,
   "id": "02518485",
   "metadata": {},
   "outputs": [
    {
     "name": "stdout",
     "output_type": "stream",
     "text": [
      "Digite um número: 75\n",
      "A raiz de 75 é igual a 8\n"
     ]
    }
   ],
   "source": [
    "# Importando função específica do módulo.\n",
    "from math import sqrt, floor\n",
    "num = int(input('Digite um número: '))\n",
    "raiz = sqrt(num)\n",
    "print('A raiz de {} é igual a {}'.format(num, floor(raiz)))"
   ]
  },
  {
   "cell_type": "code",
   "execution_count": 13,
   "id": "4e4df915",
   "metadata": {},
   "outputs": [
    {
     "name": "stdout",
     "output_type": "stream",
     "text": [
      "5\n"
     ]
    }
   ],
   "source": [
    "import random\n",
    "n = random.randint(1, 10) # random seleciona números aletórios definidos.\n",
    "print(n)"
   ]
  },
  {
   "cell_type": "markdown",
   "id": "837e1360",
   "metadata": {},
   "source": [
    "## Desafios"
   ]
  },
  {
   "cell_type": "code",
   "execution_count": null,
   "id": "63c2b3a7",
   "metadata": {},
   "outputs": [],
   "source": [
    "# Desafio 016\n",
    "# Crie um programa que leia um número Real qualquer pelo teclado e mostre na tela a sua porção inteira.\n",
    "# Exemplo: 6.127 > 6.\n"
   ]
  },
  {
   "cell_type": "code",
   "execution_count": null,
   "id": "51b7bfbb",
   "metadata": {},
   "outputs": [],
   "source": [
    "# Desafio 017\n",
    "# Faça um programa que leia o comprimento do cateto oposto e do cateto adjacente de um triângulo retângulo.\n",
    "# calcule e mostre o comprimento da hipotenusa.\n"
   ]
  },
  {
   "cell_type": "code",
   "execution_count": null,
   "id": "34ca60f6",
   "metadata": {},
   "outputs": [],
   "source": [
    "# Desafio 018\n",
    "# Faça um programa que leia um ângulo qualquer e mostre na tela o valor do seno, cosseno e tangente desse ângulo.\n"
   ]
  },
  {
   "cell_type": "code",
   "execution_count": null,
   "id": "5e14476f",
   "metadata": {},
   "outputs": [],
   "source": [
    "# Desafio 019\n",
    "# O professor quer sortear um dos seus quatro alunos para apagar o quadro.\n",
    "# Faça um programa que ajude ele, lendo o nome deles e escrevendo o nome do escolhido.\n"
   ]
  },
  {
   "cell_type": "code",
   "execution_count": null,
   "id": "4b33eb26",
   "metadata": {},
   "outputs": [],
   "source": [
    "# Desafio 020\n",
    "# O mesmo professor do desafio anterior quer sortear a ordem de apresentação de trabalhos dos alunos.\n",
    "# Faça um programa que leia o nome dos quatro alunos e mostre a ordem sorteada.\n"
   ]
  },
  {
   "cell_type": "code",
   "execution_count": null,
   "id": "b2043d7f",
   "metadata": {},
   "outputs": [],
   "source": [
    "# Desafio 021\n",
    "# Faça um programa em Python que abra e reproduza o áudio de um arquivo MP3.\n"
   ]
  },
  {
   "cell_type": "code",
   "execution_count": null,
   "id": "ee16378c",
   "metadata": {},
   "outputs": [],
   "source": []
  },
  {
   "cell_type": "code",
   "execution_count": null,
   "id": "2b8626f7",
   "metadata": {},
   "outputs": [],
   "source": []
  },
  {
   "cell_type": "code",
   "execution_count": null,
   "id": "8360505d",
   "metadata": {},
   "outputs": [],
   "source": []
  }
 ],
 "metadata": {
  "kernelspec": {
   "display_name": "Python 3 (ipykernel)",
   "language": "python",
   "name": "python3"
  },
  "language_info": {
   "codemirror_mode": {
    "name": "ipython",
    "version": 3
   },
   "file_extension": ".py",
   "mimetype": "text/x-python",
   "name": "python",
   "nbconvert_exporter": "python",
   "pygments_lexer": "ipython3",
   "version": "3.9.12"
  }
 },
 "nbformat": 4,
 "nbformat_minor": 5
}
