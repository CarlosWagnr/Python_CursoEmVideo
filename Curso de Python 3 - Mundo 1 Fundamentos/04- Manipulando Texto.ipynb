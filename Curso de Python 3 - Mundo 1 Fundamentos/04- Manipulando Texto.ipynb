{
 "cells": [
  {
   "cell_type": "markdown",
   "id": "c8d198e4",
   "metadata": {},
   "source": [
    "## Manipulando Texto"
   ]
  },
  {
   "cell_type": "markdown",
   "id": "09842a89",
   "metadata": {},
   "source": [
    "### Fatiamento"
   ]
  },
  {
   "cell_type": "code",
   "execution_count": 33,
   "id": "516ccb5b",
   "metadata": {},
   "outputs": [
    {
     "name": "stdout",
     "output_type": "stream",
     "text": [
      "s\n",
      "Curso\n",
      "Vídeo\n",
      "VdoPto\n",
      "Python\n",
      "VePh\n"
     ]
    }
   ],
   "source": [
    "# Fatiamento\n",
    "frase = 'Curso em Vídeo Python'\n",
    "print(frase[3])\n",
    "print(frase[:5]) # Exibe de 0 até a 4° posição.\n",
    "print(frase[9:14]) # Exibe da 9° posição até a 13°.\n",
    "print(frase[9:21:2]) # fatia da 9° posição até a 20° pulando de 2 em 2.\n",
    "print(frase[15:]) # Exibe da 15° posição até o final.\n",
    "print(frase[9::3]) # Começa do 9° posição até o final pulando de 3 em 3."
   ]
  },
  {
   "cell_type": "markdown",
   "id": "48f4735e",
   "metadata": {},
   "source": [
    "### Análise"
   ]
  },
  {
   "cell_type": "code",
   "execution_count": 15,
   "id": "202fa16b",
   "metadata": {},
   "outputs": [
    {
     "name": "stdout",
     "output_type": "stream",
     "text": [
      "Qual o tamanho da frase: 21\n",
      "Quantas vezes aparece a letra \"o\": 3\n",
      "Quantas vezes aparece a letra \"o\" de 0 até a 13°: 1\n",
      "Onde começa a palavra \"deo\": 11\n",
      "Onde começa a palavra \"android\": -1\n",
      "A palavra \"Curso\" tem no texto: True\n"
     ]
    }
   ],
   "source": [
    "# Análise\n",
    "print('Qual o tamanho da frase:', len(frase))\n",
    "print('Quantas vezes aparece a letra \"o\":', frase.count('o'))\n",
    "print('Quantas vezes aparece a letra \"o\" de 0 até a 13°:', frase.count('o', 0, 13))\n",
    "print('Onde começa a palavra \"deo\":', frase.find('deo'))\n",
    "print('Onde começa a palavra \"android\":', frase.find('android')) # -1 não encontrado.\n",
    "print('A palavra \"Curso\" tem no texto:', 'Curso' in frase)"
   ]
  },
  {
   "cell_type": "markdown",
   "id": "e92eb7e3",
   "metadata": {},
   "source": [
    "### Transformação"
   ]
  },
  {
   "cell_type": "code",
   "execution_count": 20,
   "id": "b1bc1d76",
   "metadata": {},
   "outputs": [
    {
     "name": "stdout",
     "output_type": "stream",
     "text": [
      "Curso em Vídeo Android\n",
      "CURSO EM VÍDEO PYTHON\n",
      "curso em vídeo python\n",
      "Curso em vídeo python\n",
      "Curso Em Vídeo Python\n"
     ]
    }
   ],
   "source": [
    "# Transfromação\n",
    "print(frase.replace('Python', 'Android')) # Troca 'Python' por 'Andoid'\n",
    "print(frase.upper())\n",
    "print(frase.lower())\n",
    "print(frase.capitalize())\n",
    "print(frase.title())"
   ]
  },
  {
   "cell_type": "code",
   "execution_count": 26,
   "id": "399fdc50",
   "metadata": {},
   "outputs": [
    {
     "name": "stdout",
     "output_type": "stream",
     "text": [
      "   Aprenda Python  \n",
      "Aprenda Python\n",
      "   Aprenda Python\n",
      "Aprenda Python  \n"
     ]
    }
   ],
   "source": [
    "# Transfromação\n",
    "frase2 = '   Aprenda Python  '\n",
    "print(frase2)\n",
    "print(frase2.strip()) # Remove os espaços do início e final.\n",
    "print(frase2.rstrip()) # Remove os espaços da direita.\n",
    "print(frase2.lstrip()) # Remove os espaços da esquerda."
   ]
  },
  {
   "cell_type": "markdown",
   "id": "9cf24cc4",
   "metadata": {},
   "source": [
    "### Divisão"
   ]
  },
  {
   "cell_type": "code",
   "execution_count": 32,
   "id": "15548a58",
   "metadata": {},
   "outputs": [
    {
     "name": "stdout",
     "output_type": "stream",
     "text": [
      "['Curso', 'em', 'Vídeo', 'Python']\n",
      "['Curs', ' em Víde', ' Pyth', 'n']\n"
     ]
    }
   ],
   "source": [
    "# Divisão\n",
    "print(frase.split()) # Divide a frase por padrão pelos espaços em lista.\n",
    "print(frase.split('o')) # Dividindo a frase por 'o' em lista.\n"
   ]
  },
  {
   "cell_type": "markdown",
   "id": "30feb5f4",
   "metadata": {},
   "source": [
    "### Junção"
   ]
  },
  {
   "cell_type": "code",
   "execution_count": 31,
   "id": "b56bfc6f",
   "metadata": {},
   "outputs": [
    {
     "name": "stdout",
     "output_type": "stream",
     "text": [
      "C-u-r-s-o- -e-m- -V-í-d-e-o- -P-y-t-h-o-n\n"
     ]
    }
   ],
   "source": [
    "# Junção\n",
    "print('-'.join(frase))"
   ]
  },
  {
   "cell_type": "code",
   "execution_count": 34,
   "id": "3b3ddf20",
   "metadata": {},
   "outputs": [
    {
     "name": "stdout",
     "output_type": "stream",
     "text": [
      "\n",
      "****** BEM VINDO AO CURSO DE PYTHON ******\n",
      "    - Tipos primitivos\n",
      "    - Operadores Aritméticos\n",
      "    - Utilizando Módulos\n",
      "    - Manipulando Textos\n",
      "\n"
     ]
    }
   ],
   "source": [
    "print(\"\"\"\n",
    "****** BEM VINDO AO CURSO DE PYTHON ******\n",
    "    - Tipos primitivos\n",
    "    - Operadores Aritméticos\n",
    "    - Utilizando Módulos\n",
    "    - Manipulando Textos\n",
    "\"\"\")"
   ]
  },
  {
   "cell_type": "markdown",
   "id": "97415982",
   "metadata": {},
   "source": [
    "## Desafios"
   ]
  },
  {
   "cell_type": "code",
   "execution_count": null,
   "id": "575359b0",
   "metadata": {},
   "outputs": [],
   "source": [
    "# Desafio 022\n",
    "# Crie um programa que leia o nome de uma pessoa e mostre:\n",
    "# O nome com todas as letras maiúsculas\n",
    "# O nome com todas as letras minúsculas\n",
    "# Quantas letras ao todo (sem considerar espaços).\n",
    "# Quantas letras tem o primeiro nome.\n"
   ]
  },
  {
   "cell_type": "code",
   "execution_count": null,
   "id": "bb9468b5",
   "metadata": {},
   "outputs": [],
   "source": [
    "# Desafio 023\n",
    "# Faça um programa que leia um número de 0 a 9999 e mostre na tela cada um dos dígitos separados.\n",
    "# Ex: 1834 = unidade: 4, dezena: 3, centena: 8, milhar: 1.\n"
   ]
  },
  {
   "cell_type": "code",
   "execution_count": null,
   "id": "afdb4df1",
   "metadata": {},
   "outputs": [],
   "source": [
    "# Desafio 024\n",
    "# Crie um programa que leia o nome de uma cidade e diga se ela começa ou não com o nome \"SANTO\".\n"
   ]
  },
  {
   "cell_type": "code",
   "execution_count": null,
   "id": "fcf48bcd",
   "metadata": {},
   "outputs": [],
   "source": [
    "# Desafio 025\n",
    "# Crie um programa que leia o nome de uma pessoa e diga se ela tem \"SILVA\" no nome.\n"
   ]
  },
  {
   "cell_type": "code",
   "execution_count": null,
   "id": "477f1629",
   "metadata": {},
   "outputs": [],
   "source": [
    "# Desafio 026\n",
    "# Faça um programa que leia uma frase pelo teclado e mostre:\n",
    "# Quantas vezes aparece a letra \"A\".\n",
    "# Em que posição ela aparece a primeira vez.\n",
    "# Em que posição ela aparece a última vez.\n"
   ]
  },
  {
   "cell_type": "code",
   "execution_count": null,
   "id": "1bc85253",
   "metadata": {},
   "outputs": [],
   "source": [
    "# Desafio 027\n",
    "# Faça um programa que leia o nome completo de uma pessoa, \n",
    "# mostrando em seguida o primeiro e o último nome separadamente.\n"
   ]
  },
  {
   "cell_type": "code",
   "execution_count": null,
   "id": "e49c95cf",
   "metadata": {},
   "outputs": [],
   "source": []
  },
  {
   "cell_type": "code",
   "execution_count": null,
   "id": "457a974a",
   "metadata": {},
   "outputs": [],
   "source": []
  },
  {
   "cell_type": "code",
   "execution_count": null,
   "id": "556f2a5d",
   "metadata": {},
   "outputs": [],
   "source": []
  }
 ],
 "metadata": {
  "kernelspec": {
   "display_name": "Python 3 (ipykernel)",
   "language": "python",
   "name": "python3"
  },
  "language_info": {
   "codemirror_mode": {
    "name": "ipython",
    "version": 3
   },
   "file_extension": ".py",
   "mimetype": "text/x-python",
   "name": "python",
   "nbconvert_exporter": "python",
   "pygments_lexer": "ipython3",
   "version": "3.9.12"
  }
 },
 "nbformat": 4,
 "nbformat_minor": 5
}
