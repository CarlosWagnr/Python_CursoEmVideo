{
 "cells": [
  {
   "cell_type": "markdown",
   "id": "0556c6c6",
   "metadata": {},
   "source": [
    "## Condições (Parte 1)"
   ]
  },
  {
   "cell_type": "code",
   "execution_count": 8,
   "id": "de04263c",
   "metadata": {},
   "outputs": [
    {
     "name": "stdout",
     "output_type": "stream",
     "text": [
      "Qual é seu nome? Maria\n",
      "Seu nome é tão normal!\n",
      "Bom dia, Maria!\n"
     ]
    }
   ],
   "source": [
    "nome = str(input('Qual é seu nome? '))\n",
    "if nome == 'Wagner':\n",
    "    print('Que nome lindo você tem!')\n",
    "else:\n",
    "    print('Seu nome é tão normal!')\n",
    "print(f'Bom dia, {nome}!')"
   ]
  },
  {
   "cell_type": "code",
   "execution_count": 9,
   "id": "f07aade0",
   "metadata": {},
   "outputs": [
    {
     "name": "stdout",
     "output_type": "stream",
     "text": [
      "Digite a primeira nota: 4.5\n",
      "Digite a segunda nota: 7.5\n",
      "A sua média foi 6.0\n",
      "Sua média foi boa! PARABÉNS!\n"
     ]
    }
   ],
   "source": [
    "n1 = float(input('Digite a primeira nota: '))\n",
    "n2 = float(input('Digite a segunda nota: '))\n",
    "m = (n1 + n2) / 2\n",
    "print('A sua média foi {:.1f}'.format(m))\n",
    "if m >= 6.0:\n",
    "    print('Sua média foi boa! PARABÉNS!')\n",
    "else:\n",
    "    print('Sua média foi ruim! ESTUDE MAIS!')"
   ]
  },
  {
   "cell_type": "code",
   "execution_count": 3,
   "id": "19d82fee",
   "metadata": {},
   "outputs": [
    {
     "name": "stdout",
     "output_type": "stream",
     "text": [
      "Quantos anos tem seu carro? 2\n",
      "carro novo\n",
      "--- FIM ---\n"
     ]
    }
   ],
   "source": [
    "tempo = int(input('Quantos anos tem seu carro? '))\n",
    "if tempo <= 3:\n",
    "    print('carro novo')\n",
    "else:\n",
    "    print('carro velho')\n",
    "print('--- FIM ---')"
   ]
  },
  {
   "cell_type": "markdown",
   "id": "adb8852b",
   "metadata": {},
   "source": [
    "### Condição Simplificada"
   ]
  },
  {
   "cell_type": "code",
   "execution_count": 4,
   "id": "b5ee0d9e",
   "metadata": {},
   "outputs": [
    {
     "name": "stdout",
     "output_type": "stream",
     "text": [
      "Quantos anos tem seu carro? 4\n",
      "carro velho\n",
      "--- FIM ---\n"
     ]
    }
   ],
   "source": [
    "tempo = int(input('Quantos anos tem seu carro? '))\n",
    "print('carro novo' if tempo <= 3 else 'carro velho')\n",
    "print('--- FIM ---')"
   ]
  },
  {
   "cell_type": "markdown",
   "id": "f59e2c1d",
   "metadata": {},
   "source": [
    "## Desafios"
   ]
  },
  {
   "cell_type": "code",
   "execution_count": 26,
   "id": "0ada7b63",
   "metadata": {},
   "outputs": [
    {
     "name": "stdout",
     "output_type": "stream",
     "text": [
      "\n",
      "-=--=--=--=--=--=--=--=--=--=--=--=--=--=--=--=--=--=--=--=--=--=-\n",
      "Vou pensar em um número entre 0 e 5. Tente adivinhar...\n",
      "-=--=--=--=--=--=--=--=--=--=--=--=--=--=--=--=--=--=--=--=--=--=-\n",
      "\n",
      "Em que número eu pensei? 4\n",
      "PROCESSANDO...\n",
      "GANHEI! Eu pensei no número 5 e não no 4\n"
     ]
    }
   ],
   "source": [
    "# Desafio 028\n",
    "# Escreva um programa que faça o computador 'pensar' em um número inteiro entre 0 e 5\n",
    "# e peça para o usuário tentar descobrir qual foi o número escolhido pelo computador.\n",
    "# O programa deverá escrever na tela se o usuário venceu ou perdeu.\n",
    "from random import randint\n",
    "from time import sleep\n",
    "print(\"\"\"\n",
    "-=--=--=--=--=--=--=--=--=--=--=--=--=--=--=--=--=--=--=--=--=--=-\n",
    "Vou pensar em um número entre 0 e 5. Tente adivinhar...\n",
    "-=--=--=--=--=--=--=--=--=--=--=--=--=--=--=--=--=--=--=--=--=--=-\n",
    "\"\"\")\n",
    "computador = randint(0, 5) # Faz o computador 'PENSAR'\n",
    "num = int(input(\"Em que número eu pensei? \"))\n",
    "print('PROCESSANDO...')\n",
    "sleep(3)\n",
    "if num == computador:\n",
    "    print('PARABÉNS! Você conseguiu me vencer!')\n",
    "else:\n",
    "    print('GANHEI! Eu pensei no número {} e não no {}'.format(computador, num))"
   ]
  },
  {
   "cell_type": "code",
   "execution_count": 38,
   "id": "9881b914",
   "metadata": {},
   "outputs": [
    {
     "name": "stdout",
     "output_type": "stream",
     "text": [
      "Qual é a velocidade atual do carro? 80\n",
      "Tenha um bom dia! Dirija com segurança!\n"
     ]
    }
   ],
   "source": [
    "# Desafio 029\n",
    "# Escreva um programa que leia a velocidade de um carro. \n",
    "# Se ele ultrapassar 80km/h, mostre uma mensagem dizendo que ele foi multado.\n",
    "# A multa vai custar R$7,00 por cada km acima do limite.\n",
    "vel = int(input('Qual é a velocidade atual do carro? '))\n",
    "multa = (vel - 80) * 7\n",
    "if vel > 80:\n",
    "    print('MULTADO! Você excedeu o limite permitido que é de 80Km/h.')\n",
    "    print('Você deve pagar uma multa de R${:.2f}'.format(multa))\n",
    "print('Tenha um bom dia! Dirija com segurança!')"
   ]
  },
  {
   "cell_type": "code",
   "execution_count": 40,
   "id": "a81f1d63",
   "metadata": {},
   "outputs": [
    {
     "name": "stdout",
     "output_type": "stream",
     "text": [
      "Me diga um número qualquer: 7\n",
      "O número 7 é IMPAR\n"
     ]
    }
   ],
   "source": [
    "# Desafio 030\n",
    "# Crie um programa que leia um número inteiro e mostre na tela se ele é par ou impar.\n",
    "numero = int(input('Me diga um número qualquer: '))\n",
    "impa_par = numero % 2\n",
    "if impa_par == 0:\n",
    "    print('O número {} é PAR'.format(numero))\n",
    "else:\n",
    "    print('O número {} é IMPAR'.format(numero))"
   ]
  },
  {
   "cell_type": "code",
   "execution_count": 13,
   "id": "04e09682",
   "metadata": {},
   "outputs": [
    {
     "name": "stdout",
     "output_type": "stream",
     "text": [
      "Qual é a distância da sua viagem? 1000\n",
      "Você está preste a começar uma viagem de 1000.0Km.\n",
      "E o preço da sua passagem será de R$450.00\n"
     ]
    }
   ],
   "source": [
    "# Desafio 031\n",
    "# Desenvolva um programa que pergunte a distância de uma viagem em km.\n",
    "# Calcule o preço da passagem, cobrando R$0,50 por Km para viagens de até 200Km \n",
    "# e R$0,40 para viagens mais longas.\n",
    "\n",
    "'''dist = int(input('Qual é a distância da sua viagem? '))\n",
    "print('Você está preste a começar uma viagem de {:.1f}Km.'.format(dist))\n",
    "if dist <= 200:\n",
    "    val = (dist * 0.50)\n",
    "else:\n",
    "    val = (dist * 0.45)\n",
    "print('E o preço da sua passagem será de R${:.2f}'.format(val))'''\n",
    "\n",
    "# Resolução 2:\n",
    "dist = int(input('Qual é a distância da sua viagem? '))\n",
    "print('Você está preste a começar uma viagem de {:.1f}Km.'.format(dist))\n",
    "preco = dist * 0.50 if dist <= 200 else dist * 0.45\n",
    "print('E o preço da sua passagem será de R${:.2f}'.format(preco))"
   ]
  },
  {
   "cell_type": "code",
   "execution_count": 19,
   "id": "b37dd978",
   "metadata": {},
   "outputs": [
    {
     "name": "stdout",
     "output_type": "stream",
     "text": [
      "Que ano você quer analisar? Coloque 0 para analisar o ano atual: 0\n",
      "O ano 2024 é BISSEXTO\n"
     ]
    }
   ],
   "source": [
    "# Desafio 032\n",
    "# Faça um programa que leia um ano qualquer e mostre se ele é 'BISSEXTO'.\n",
    "from datetime import date\n",
    "ano = int(input('Que ano você quer analisar? Coloque 0 para analisar o ano atual: '))\n",
    "if ano == 0:\n",
    "    ano = date.today().year\n",
    "if ano % 4 == 0 and ano % 100 != 0 or ano % 400 == 0:\n",
    "    print('O ano {} é BISSEXTO'.format(ano))\n",
    "else:\n",
    "    print('O ano {} é NÃO É BISSEXTO'.format(ano))"
   ]
  },
  {
   "cell_type": "code",
   "execution_count": 26,
   "id": "760891d7",
   "metadata": {},
   "outputs": [
    {
     "name": "stdout",
     "output_type": "stream",
     "text": [
      "Primeiro valor: 7\n",
      "Segundo valor: 5\n",
      "Terceiro valor: 2\n",
      "O menor valor digitado foi 2\n",
      "O maior valor digitado foi 7\n"
     ]
    }
   ],
   "source": [
    "# Desafio 033\n",
    "# Faça um programa que leia três números e mostre qual é o 'maior' e qual é o 'menor'.\n",
    "num1 = int(input('Primeiro valor: '))\n",
    "num2 = int(input('Segundo valor: '))\n",
    "num3 = int(input('Terceiro valor: '))\n",
    "\n",
    "# Verificando quem é menor\n",
    "menor = num1\n",
    "if num2 < num1 and num2 < num3:\n",
    "    menor = num2\n",
    "if num3 < num1 and num3 < num2:\n",
    "    menor = num3\n",
    "    \n",
    "# Verificando quem é o maior\n",
    "maior = num1\n",
    "if num2 > num1 and num2 > num3:\n",
    "    maior = num2\n",
    "if num3 > num1 and num3 > num2:\n",
    "    maior = num3\n",
    "\n",
    "print('O menor valor digitado foi {}'.format(menor))\n",
    "print('O maior valor digitado foi {}'.format(maior))\n",
    "    "
   ]
  },
  {
   "cell_type": "code",
   "execution_count": 28,
   "id": "c4410625",
   "metadata": {},
   "outputs": [
    {
     "name": "stdout",
     "output_type": "stream",
     "text": [
      "Qual é o salário do funcionário? 5000\n",
      "Quem ganhava R$5000.00 passa a ganhar R$5500.00 agora.\n"
     ]
    }
   ],
   "source": [
    "# Desafio 034\n",
    "# Escreva um programa que pergunte o salário de um funcionário e calcule o valor do seu aumento.\n",
    "# Para salários maiores a R$1.250,00, calcule um aumento de 10%.\n",
    "# Para os inferiores ou iguais, o aumento é de 15%.\n",
    "salario = float(input('Qual é o salário do funcionário? '))\n",
    "if salario > 1250:\n",
    "    novo_sal = (salario * 10 / 100) + salario\n",
    "else:\n",
    "    novo_sal = (salario * 15 / 100) + salario\n",
    "print('Quem ganhava R${:.2f} passa a ganhar R${:.2f} agora.'.format(salario, novo_sal))"
   ]
  },
  {
   "cell_type": "code",
   "execution_count": 32,
   "id": "4d3907c1",
   "metadata": {},
   "outputs": [
    {
     "name": "stdout",
     "output_type": "stream",
     "text": [
      "-=-=-=-=-=-=-=-=-=-=-=-=-=-=-=-=-=-=-=-=\n",
      "Analisador de Triângulos\n",
      "-=-=-=-=-=-=-=-=-=-=-=-=-=-=-=-=-=-=-=-=\n",
      "Primeiro seguimento: 1\n",
      "Segundo seguimento: 4\n",
      "Terceiro seguimento: 17\n",
      "Os seguimento acima NÃO PODEM FORMAR um TRIÂNGULO!\n"
     ]
    }
   ],
   "source": [
    "# Desafio 035\n",
    "# Desenvolva um programa que leia o comprimento de três retas e diga ao usuário \n",
    "# se elas podem ou não formar um triângulo.\n",
    "print('-=' * 20)\n",
    "print('Analisador de Triângulos')\n",
    "print('-=' * 20)\n",
    "reta1 = float(input('Primeiro seguimento: '))\n",
    "reta2 = float(input('Segundo seguimento: '))\n",
    "reta3 = float(input('Terceiro seguimento: '))\n",
    "if reta1 < reta2 + reta3 and reta2 < reta1 + reta3 and reta3 < reta1 + reta2:\n",
    "    print('Os seguimento acima PODEM FORMAR um TRIÂNGULO!')\n",
    "else:\n",
    "    print('Os seguimento acima NÃO PODEM FORMAR um TRIÂNGULO!')"
   ]
  },
  {
   "cell_type": "code",
   "execution_count": null,
   "id": "d88e0f85",
   "metadata": {},
   "outputs": [],
   "source": []
  }
 ],
 "metadata": {
  "kernelspec": {
   "display_name": "Python 3 (ipykernel)",
   "language": "python",
   "name": "python3"
  },
  "language_info": {
   "codemirror_mode": {
    "name": "ipython",
    "version": 3
   },
   "file_extension": ".py",
   "mimetype": "text/x-python",
   "name": "python",
   "nbconvert_exporter": "python",
   "pygments_lexer": "ipython3",
   "version": "3.9.12"
  }
 },
 "nbformat": 4,
 "nbformat_minor": 5
}
