{
 "cells": [
  {
   "cell_type": "markdown",
   "id": "66fe04f1",
   "metadata": {},
   "source": [
    "## Operadores Aritméticos\n"
   ]
  },
  {
   "cell_type": "code",
   "execution_count": 3,
   "id": "a23888c5",
   "metadata": {},
   "outputs": [],
   "source": [
    "# Ordem de precedência:\n",
    "# (): Parenteses\n",
    "# **: Potência\n",
    "# *: Multiplicação, /: Divisão, //: Divisão Inteira, %: Resto da Divisão\n",
    "# +: Soma, -: Subtraçâo"
   ]
  },
  {
   "cell_type": "code",
   "execution_count": 28,
   "id": "a4092be6",
   "metadata": {},
   "outputs": [
    {
     "name": "stdout",
     "output_type": "stream",
     "text": [
      "Digite um valor: 4\n",
      "Digite outro valor: 3\n",
      "=========================\n",
      "A soma vale 7\n",
      "A subtração vale 1\n",
      "A multiplicação vale 12\n",
      "A divisão vale 1.333\n",
      "A divisão inteira vale 1\n",
      "O resto da divisão vale 1!"
     ]
    }
   ],
   "source": [
    "n1 = int(input('Digite um valor: '))\n",
    "n2 = int(input('Digite outro valor: '))\n",
    "print('='*25)\n",
    "print('A soma vale {}'.format(n1 + n2))\n",
    "print('A subtração vale {}'.format(n1 - n2))\n",
    "print('A multiplicação vale {}'.format(n1 * n2))\n",
    "print('A divisão vale {:.3f}'.format(n1 / n2))\n",
    "print('A divisão inteira vale {}'.format(n1 // n2))\n",
    "print('O resto da divisão vale {}'.format(n1 % n2), end=('!'))"
   ]
  },
  {
   "cell_type": "code",
   "execution_count": 29,
   "id": "0d0dbe22",
   "metadata": {},
   "outputs": [
    {
     "name": "stdout",
     "output_type": "stream",
     "text": [
      "Digite seu nome: Ted\n",
      "Prazer em te conhecer Ted\n"
     ]
    }
   ],
   "source": [
    "nome = input('Digite seu nome: ')\n",
    "print('Prazer em te conhecer {}!'.format(nome))"
   ]
  },
  {
   "cell_type": "code",
   "execution_count": 32,
   "id": "633b0d83",
   "metadata": {},
   "outputs": [
    {
     "name": "stdout",
     "output_type": "stream",
     "text": [
      "Digite seu nome: Gustavo\n",
      "Prazer em te conhecer Gustavo             !\n"
     ]
    }
   ],
   "source": [
    "nome = input('Digite seu nome: ')\n",
    "print('Prazer em te conhecer {:<20}!'.format(nome))"
   ]
  },
  {
   "cell_type": "code",
   "execution_count": 33,
   "id": "19a22e10",
   "metadata": {},
   "outputs": [
    {
     "name": "stdout",
     "output_type": "stream",
     "text": [
      "Digite seu nome: Guanabara\n",
      "Prazer em te conhecer            Guanabara!\n"
     ]
    }
   ],
   "source": [
    "nome = input('Digite seu nome: ')\n",
    "print('Prazer em te conhecer {:>20}!'.format(nome))"
   ]
  },
  {
   "cell_type": "code",
   "execution_count": 34,
   "id": "4d09ca59",
   "metadata": {},
   "outputs": [
    {
     "name": "stdout",
     "output_type": "stream",
     "text": [
      "Digite seu nome: Carlos\n",
      "Prazer em te conhecer        Carlos       !\n"
     ]
    }
   ],
   "source": [
    "nome = input('Digite seu nome: ')\n",
    "print('Prazer em te conhecer {:^20}!'.format(nome))"
   ]
  },
  {
   "cell_type": "code",
   "execution_count": 35,
   "id": "78558958",
   "metadata": {},
   "outputs": [
    {
     "name": "stdout",
     "output_type": "stream",
     "text": [
      "Digite seu nome: Wagner\n",
      "Prazer em te conhecer =======Wagner=======!\n"
     ]
    }
   ],
   "source": [
    "nome = input('Digite seu nome: ')\n",
    "print('Prazer em te conhecer {:=^20}!'.format(nome))"
   ]
  },
  {
   "cell_type": "markdown",
   "id": "5303c1a6",
   "metadata": {},
   "source": [
    "## Desafio"
   ]
  },
  {
   "cell_type": "code",
   "execution_count": null,
   "id": "9ff527b7",
   "metadata": {},
   "outputs": [],
   "source": [
    "# DESAFIO 005\n",
    "# Faça um programa que leia um número inteiro e mostre na tela o seu sucessor e seu antecessor.\n"
   ]
  },
  {
   "cell_type": "code",
   "execution_count": null,
   "id": "119fd38c",
   "metadata": {},
   "outputs": [],
   "source": [
    "# DESAFIO 006\n",
    "# Crie um algoritmo que leia um número e mostre o seu dobro, triplo e raiz quadrada.\n"
   ]
  },
  {
   "cell_type": "code",
   "execution_count": null,
   "id": "0b82e434",
   "metadata": {},
   "outputs": [],
   "source": [
    "# DESAFIO 007\n",
    "# Desenvolva um programa que leia as duas notas de um aluno, calcule e mostre a sua média.\n"
   ]
  },
  {
   "cell_type": "code",
   "execution_count": null,
   "id": "6411a9b1",
   "metadata": {},
   "outputs": [],
   "source": [
    "# DESAFIO 008\n",
    "# Escreva um programa que leia um valor em metros e o exiba convertendo em centímetro e milímetro.\n"
   ]
  },
  {
   "cell_type": "code",
   "execution_count": null,
   "id": "68d6b035",
   "metadata": {},
   "outputs": [],
   "source": [
    "# DESAFIO 009\n",
    "# Faça um programa que leia um número inteiro qualquer e mostre a sua tabuada.\n"
   ]
  },
  {
   "cell_type": "code",
   "execution_count": null,
   "id": "60fd9a3d",
   "metadata": {},
   "outputs": [],
   "source": [
    "# DESAFIO 010\n",
    "# Crie um programa que leia quanto dinheiro uma pessoa tem na carteira e mostre quantos dólares ela pode comprar.\n"
   ]
  },
  {
   "cell_type": "code",
   "execution_count": null,
   "id": "eacabfa4",
   "metadata": {},
   "outputs": [],
   "source": [
    "# DESAFIO 011\n",
    "# Faça um programa que leia a largura e a altura de uma parede em metros, \n",
    "# calcule a sua área e a quantidade de tinta necessária para pintá-la, \n",
    "# sabendo que cada litro de tinta, pinta uma área de 2m².\n"
   ]
  },
  {
   "cell_type": "code",
   "execution_count": null,
   "id": "904dd726",
   "metadata": {},
   "outputs": [],
   "source": [
    "# DESAFIO 012\n",
    "# Faça um algoritmo que leia o preço d eum produto e mostre o seu novo preço, com 5% de desconto.\n"
   ]
  },
  {
   "cell_type": "code",
   "execution_count": null,
   "id": "3029fb2b",
   "metadata": {},
   "outputs": [],
   "source": [
    "# DESAFIO 013\n",
    "# Faça um algoritmo que leia o salário de um funcionário e mostre seu novo salário, com 15% de aumento.\n"
   ]
  },
  {
   "cell_type": "code",
   "execution_count": null,
   "id": "4c31f76f",
   "metadata": {},
   "outputs": [],
   "source": []
  },
  {
   "cell_type": "code",
   "execution_count": null,
   "id": "c3594bf6",
   "metadata": {},
   "outputs": [],
   "source": []
  }
 ],
 "metadata": {
  "kernelspec": {
   "display_name": "Python 3 (ipykernel)",
   "language": "python",
   "name": "python3"
  },
  "language_info": {
   "codemirror_mode": {
    "name": "ipython",
    "version": 3
   },
   "file_extension": ".py",
   "mimetype": "text/x-python",
   "name": "python",
   "nbconvert_exporter": "python",
   "pygments_lexer": "ipython3",
   "version": "3.9.12"
  }
 },
 "nbformat": 4,
 "nbformat_minor": 5
}
