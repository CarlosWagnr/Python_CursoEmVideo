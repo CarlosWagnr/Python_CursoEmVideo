{
 "cells": [
  {
   "cell_type": "markdown",
   "id": "66fe04f1",
   "metadata": {},
   "source": [
    "## Operadores Aritméticos\n"
   ]
  },
  {
   "cell_type": "code",
   "execution_count": 3,
   "id": "a23888c5",
   "metadata": {},
   "outputs": [],
   "source": [
    "# Ordem de precedência:\n",
    "# (): Parenteses\n",
    "# **: Potência\n",
    "# *: Multiplicação, /: Divisão, //: Divisão Inteira, %: Resto da Divisão\n",
    "# +: Soma, -: Subtraçâo"
   ]
  },
  {
   "cell_type": "code",
   "execution_count": 28,
   "id": "a4092be6",
   "metadata": {},
   "outputs": [
    {
     "name": "stdout",
     "output_type": "stream",
     "text": [
      "Digite um valor: 4\n",
      "Digite outro valor: 3\n",
      "=========================\n",
      "A soma vale 7\n",
      "A subtração vale 1\n",
      "A multiplicação vale 12\n",
      "A divisão vale 1.333\n",
      "A divisão inteira vale 1\n",
      "O resto da divisão vale 1!"
     ]
    }
   ],
   "source": [
    "n1 = int(input('Digite um valor: '))\n",
    "n2 = int(input('Digite outro valor: '))\n",
    "print('='*25)\n",
    "print('A soma vale {}'.format(n1 + n2))\n",
    "print('A subtração vale {}'.format(n1 - n2))\n",
    "print('A multiplicação vale {}'.format(n1 * n2))\n",
    "print('A divisão vale {:.3f}'.format(n1 / n2))\n",
    "print('A divisão inteira vale {}'.format(n1 // n2))\n",
    "print('O resto da divisão vale {}'.format(n1 % n2), end=('!'))"
   ]
  },
  {
   "cell_type": "code",
   "execution_count": 29,
   "id": "0d0dbe22",
   "metadata": {},
   "outputs": [
    {
     "name": "stdout",
     "output_type": "stream",
     "text": [
      "Digite seu nome: Ted\n",
      "Prazer em te conhecer Ted\n"
     ]
    }
   ],
   "source": [
    "nome = input('Digite seu nome: ')\n",
    "print('Prazer em te conhecer {}!'.format(nome))"
   ]
  },
  {
   "cell_type": "code",
   "execution_count": 32,
   "id": "633b0d83",
   "metadata": {},
   "outputs": [
    {
     "name": "stdout",
     "output_type": "stream",
     "text": [
      "Digite seu nome: Gustavo\n",
      "Prazer em te conhecer Gustavo             !\n"
     ]
    }
   ],
   "source": [
    "nome = input('Digite seu nome: ')\n",
    "print('Prazer em te conhecer {:<20}!'.format(nome))"
   ]
  },
  {
   "cell_type": "code",
   "execution_count": 33,
   "id": "19a22e10",
   "metadata": {},
   "outputs": [
    {
     "name": "stdout",
     "output_type": "stream",
     "text": [
      "Digite seu nome: Guanabara\n",
      "Prazer em te conhecer            Guanabara!\n"
     ]
    }
   ],
   "source": [
    "nome = input('Digite seu nome: ')\n",
    "print('Prazer em te conhecer {:>20}!'.format(nome))"
   ]
  },
  {
   "cell_type": "code",
   "execution_count": 34,
   "id": "4d09ca59",
   "metadata": {},
   "outputs": [
    {
     "name": "stdout",
     "output_type": "stream",
     "text": [
      "Digite seu nome: Carlos\n",
      "Prazer em te conhecer        Carlos       !\n"
     ]
    }
   ],
   "source": [
    "nome = input('Digite seu nome: ')\n",
    "print('Prazer em te conhecer {:^20}!'.format(nome))"
   ]
  },
  {
   "cell_type": "code",
   "execution_count": 35,
   "id": "78558958",
   "metadata": {},
   "outputs": [
    {
     "name": "stdout",
     "output_type": "stream",
     "text": [
      "Digite seu nome: Wagner\n",
      "Prazer em te conhecer =======Wagner=======!\n"
     ]
    }
   ],
   "source": [
    "nome = input('Digite seu nome: ')\n",
    "print('Prazer em te conhecer {:=^20}!'.format(nome))"
   ]
  },
  {
   "cell_type": "markdown",
   "id": "5303c1a6",
   "metadata": {},
   "source": [
    "## Desafio"
   ]
  },
  {
   "cell_type": "code",
   "execution_count": 2,
   "id": "9ff527b7",
   "metadata": {},
   "outputs": [
    {
     "name": "stdout",
     "output_type": "stream",
     "text": [
      "Digite um número: 2\n",
      "Analisando o valor 2, seu antecessor é 1 e o seu sucessor é 3\n"
     ]
    }
   ],
   "source": [
    "# DESAFIO 005\n",
    "# Faça um programa que leia um número inteiro e mostre na tela o seu sucessor e seu antecessor.\n",
    "num1 = int(input('Digite um número: '))\n",
    "print(f'Analisando o valor {num1}, seu antecessor é {num1 - 1} e o seu sucessor é {num1 + 1}')"
   ]
  },
  {
   "cell_type": "code",
   "execution_count": 11,
   "id": "119fd38c",
   "metadata": {},
   "outputs": [
    {
     "name": "stdout",
     "output_type": "stream",
     "text": [
      "Digite um número: 18\n",
      "O dobro de 18 vale 36.\n",
      "O triplo de 18 vale 54.\n",
      "A raiz quadrada de 18 é igual a 4.24.\n"
     ]
    }
   ],
   "source": [
    "# DESAFIO 006\n",
    "# Crie um algoritmo que leia um número e mostre o seu dobro, triplo e raiz quadrada.\n",
    "nume1 = int(input('Digite um número: '))\n",
    "print('O dobro de {} vale {}.'.format(nume1, (nume1 * 2)))\n",
    "print('O triplo de {} vale {}.'.format(nume1, (nume1 * 3)))\n",
    "print('A raiz quadrada de {} é igual a {:.2f}.'.format(nume1, (nume1 ** 0.5))) # nume1 ** (1/2)"
   ]
  },
  {
   "cell_type": "code",
   "execution_count": 13,
   "id": "0b82e434",
   "metadata": {},
   "outputs": [
    {
     "name": "stdout",
     "output_type": "stream",
     "text": [
      "Primeira nota do aluno: 5.5\n",
      "Segunda nota do aluno: 2\n",
      "A média entre 5.5 e 2.0 é igual a 3.8.\n"
     ]
    }
   ],
   "source": [
    "# DESAFIO 007\n",
    "# Desenvolva um programa que leia as duas notas de um aluno, calcule e mostre a sua média.\n",
    "nota1 = float(input('Primeira nota do aluno: '))\n",
    "nota2 = float(input('Segunda nota do aluno: '))\n",
    "print('A média entre {} e {} é igual a {:.1f}.'.format(nota1, nota2, (nota1 + nota2) / 2))"
   ]
  },
  {
   "cell_type": "code",
   "execution_count": 26,
   "id": "6411a9b1",
   "metadata": {},
   "outputs": [
    {
     "name": "stdout",
     "output_type": "stream",
     "text": [
      "Digite uma distância em metros: 23\n",
      "A medida de 23.0m corresponde a:  \n",
      "0.023km. \n",
      "2300cm. \n",
      "23000mm.\n"
     ]
    }
   ],
   "source": [
    "# DESAFIO 008\n",
    "# Escreva um programa que leia um valor em metros e o exiba convertendo em centímetro e milímetro.\n",
    "metro = float(input('Digite uma distância em metros: '))\n",
    "print(f'A medida de {metro}m corresponde a:  \\n{metro / 1000}km. \\n{metro * 100:.0f}cm. \\n{metro * 1000:.0f}mm.')"
   ]
  },
  {
   "cell_type": "code",
   "execution_count": 34,
   "id": "68d6b035",
   "metadata": {},
   "outputs": [
    {
     "name": "stdout",
     "output_type": "stream",
     "text": [
      "Digite um número para ver sua tabuada: 8\n",
      "===========\n",
      "8 x  1 = 8\n",
      "8 x  2 = 16\n",
      "8 x  3 = 24\n",
      "8 x  4 = 32\n",
      "8 x  5 = 40\n",
      "8 x  6 = 48\n",
      "8 x  7 = 56\n",
      "8 x  8 = 64\n",
      "8 x  9 = 72\n",
      "8 x 10 = 80\n",
      "===========\n"
     ]
    }
   ],
   "source": [
    "# DESAFIO 009\n",
    "# Faça um programa que leia um número inteiro qualquer e mostre a sua tabuada.\n",
    "num_tabu = int(input('Digite um número para ver sua tabuada: '))\n",
    "print('=' * 11)\n",
    "print('{} x {:2} = {}'.format(num_tabu, 1, (num_tabu * 1)))\n",
    "print('{} x {:2} = {}'.format(num_tabu, 2, (num_tabu * 2)))\n",
    "print('{} x {:2} = {}'.format(num_tabu, 3, (num_tabu * 3)))\n",
    "print('{} x {:2} = {}'.format(num_tabu, 4, (num_tabu * 4)))\n",
    "print('{} x {:2} = {}'.format(num_tabu, 5, (num_tabu * 5)))\n",
    "print('{} x {:2} = {}'.format(num_tabu, 6, (num_tabu * 6)))\n",
    "print('{} x {:2} = {}'.format(num_tabu, 7, (num_tabu * 7)))\n",
    "print('{} x {:2} = {}'.format(num_tabu, 8, (num_tabu * 8)))\n",
    "print('{} x {:2} = {}'.format(num_tabu, 9, (num_tabu * 9)))\n",
    "print('{} x {} = {}'.format(num_tabu, 10, (num_tabu * 10)))\n",
    "print('=' * 11)"
   ]
  },
  {
   "cell_type": "code",
   "execution_count": 40,
   "id": "60fd9a3d",
   "metadata": {},
   "outputs": [
    {
     "name": "stdout",
     "output_type": "stream",
     "text": [
      "Quanto dinheiro você tem na carteira? R$43\n",
      "Com 43.00 você pode comprar US$8.76\n"
     ]
    }
   ],
   "source": [
    "# DESAFIO 010\n",
    "# Crie um programa que leia quanto dinheiro uma pessoa tem na carteira e mostre quantos dólares ela pode comprar.\n",
    "# Considerando US$1,00 = R$4,91\n",
    "real = float(input('Quanto dinheiro você tem na carteira? R$'))\n",
    "print('Com {:.2f} você pode comprar US${:.2f}'.format(real, (real / 4.91)))"
   ]
  },
  {
   "cell_type": "code",
   "execution_count": 41,
   "id": "eacabfa4",
   "metadata": {},
   "outputs": [
    {
     "name": "stdout",
     "output_type": "stream",
     "text": [
      "Largura da parede: 2.5\n",
      "Altura da parede: 1.75\n",
      "Sua parede tem a dimensão de 2.5x1.75 e sua área é de 4.375m².\n",
      "Para pintar essa parede, você precisará de 2.1875l de tinta.\n"
     ]
    }
   ],
   "source": [
    "# DESAFIO 011\n",
    "# Faça um programa que leia a largura e a altura de uma parede em metros, \n",
    "# calcule a sua área e a quantidade de tinta necessária para pintá-la, \n",
    "# sabendo que cada litro de tinta, pinta uma área de 2m².\n",
    "larg = float(input('Largura da parede: '))\n",
    "alt = float(input('Altura da parede: '))\n",
    "print('Sua parede tem a dimensão de {}x{} e sua área é de {}m².'.format(larg, alt, (larg * alt)))\n",
    "print('Para pintar essa parede, você precisará de {}l de tinta.'.format((larg * alt) / 2))"
   ]
  },
  {
   "cell_type": "code",
   "execution_count": 49,
   "id": "904dd726",
   "metadata": {},
   "outputs": [
    {
     "name": "stdout",
     "output_type": "stream",
     "text": [
      "Qual é o preço do produto? R$2500\n",
      "O produto que custava R$2500.00, na promoção com desconto de 5% vai custar R$2375.00\n"
     ]
    }
   ],
   "source": [
    "# DESAFIO 012\n",
    "# Faça um algoritmo que leia o preço de um produto e mostre o seu novo preço, com 5% de desconto.\n",
    "prod = float(input('Qual é o preço do produto? R$'))\n",
    "print(f'O produto que custava R${prod:.2f}, na promoção com desconto de 5% vai custar R${(prod - ((prod * 5) / 100)):.2f}')"
   ]
  },
  {
   "cell_type": "code",
   "execution_count": 53,
   "id": "3029fb2b",
   "metadata": {},
   "outputs": [
    {
     "name": "stdout",
     "output_type": "stream",
     "text": [
      "Qual é o salário do funcionário? R$3500\n",
      "Um funcionário que ganhava R$3500.00, com 15% de aumento, passa a receber R$4025.00\n"
     ]
    }
   ],
   "source": [
    "# DESAFIO 013\n",
    "# Faça um algoritmo que leia o salário de um funcionário e mostre seu novo salário, com 15% de aumento.\n",
    "sal = float(input('Qual é o salário do funcionário? R$'))\n",
    "print('Um funcionário que ganhava R${:.2f}, com 15% de aumento, passa a receber R${:.2f}' \\\n",
    "      .format(sal, (sal + ((sal * 15) / 100))))"
   ]
  },
  {
   "cell_type": "code",
   "execution_count": 56,
   "id": "4c31f76f",
   "metadata": {},
   "outputs": [
    {
     "name": "stdout",
     "output_type": "stream",
     "text": [
      "Informe a temperatura em °C: 40\n",
      "A temperatura de 40.0°C corresponde a 104.0°F!\n"
     ]
    }
   ],
   "source": [
    "# DESAFIO 014\n",
    "# Faça um programa que converta a temperatura de Celsius para Farenheit\n",
    "temp = float(input('Informe a temperatura em °C: '))\n",
    "print('A temperatura de {}°C corresponde a {}°F!'.format(temp, (temp * 9/5) + 32))"
   ]
  },
  {
   "cell_type": "code",
   "execution_count": 63,
   "id": "c3594bf6",
   "metadata": {},
   "outputs": [
    {
     "name": "stdout",
     "output_type": "stream",
     "text": [
      "Quantos dias alugados? 3\n",
      "Quantos km rodados? 350\n",
      "O total a pagar é de R$232.50\n"
     ]
    }
   ],
   "source": [
    "# DESAFIO 015\n",
    "# Faça um programa que pergunte a quantidade de km percorridos por um carro alugado e a \n",
    "# quantidade de dias pelos quais foram alugados. Calcule o preço a pagar, sabendo que o carro custa R$60 por dia\n",
    "# e R$0,15 por km rodado.\n",
    "dia = int(input('Quantos dias alugados? '))\n",
    "km = float(input('Quantos km rodados? '))\n",
    "valor_pagar = (dia * 60) + (km * 0.15)\n",
    "print('O total a pagar é de R${:.2f}'.format(valor_pagar))"
   ]
  },
  {
   "cell_type": "code",
   "execution_count": null,
   "id": "e463f505",
   "metadata": {},
   "outputs": [],
   "source": []
  }
 ],
 "metadata": {
  "kernelspec": {
   "display_name": "Python 3 (ipykernel)",
   "language": "python",
   "name": "python3"
  },
  "language_info": {
   "codemirror_mode": {
    "name": "ipython",
    "version": 3
   },
   "file_extension": ".py",
   "mimetype": "text/x-python",
   "name": "python",
   "nbconvert_exporter": "python",
   "pygments_lexer": "ipython3",
   "version": "3.9.12"
  }
 },
 "nbformat": 4,
 "nbformat_minor": 5
}
