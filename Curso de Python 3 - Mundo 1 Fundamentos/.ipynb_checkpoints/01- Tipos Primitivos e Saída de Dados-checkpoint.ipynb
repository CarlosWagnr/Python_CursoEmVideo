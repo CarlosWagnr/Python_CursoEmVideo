{
 "cells": [
  {
   "cell_type": "markdown",
   "id": "472cb519",
   "metadata": {},
   "source": [
    "## Tipos Primitivos e Saída de Dados\n",
    "#### int (5, -20, 83)\n",
    "#### float (10.3, 87, 5)\n",
    "#### bool(True ou False)\n",
    "#### str ('nome' / \"nome\")"
   ]
  },
  {
   "cell_type": "code",
   "execution_count": 9,
   "id": "5a27bf5a",
   "metadata": {},
   "outputs": [
    {
     "name": "stdout",
     "output_type": "stream",
     "text": [
      "Qual é seu nome? Ted\n",
      "Qual é a sua idade? 37\n",
      "Qual é o seu peso? 78.9\n",
      "Ted 37 78.9\n",
      "Meu nome é Ted, minha idade é 37, meu peso é 78.9.\n"
     ]
    }
   ],
   "source": [
    "nome = input('Qual é seu nome? ')\n",
    "idade = int(input('Qual é a sua idade? '))\n",
    "peso = float(input('Qual é o seu peso? '))\n",
    "print(nome, idade, peso)\n",
    "print(f'Meu nome é {nome}, minha idade é {idade}, meu peso é {peso}.')"
   ]
  },
  {
   "cell_type": "code",
   "execution_count": 13,
   "id": "1928b118",
   "metadata": {},
   "outputs": [
    {
     "name": "stdout",
     "output_type": "stream",
     "text": [
      "Primeiro número: 6\n",
      "Segundo número: 2\n",
      "A soma entre 6 e 2 é igual a: 8\n"
     ]
    }
   ],
   "source": [
    "# Soma de valores\n",
    "pri_numero = int(input('Primeiro número: '))\n",
    "seg_numero = int(input('Segundo número: '))\n",
    "print(f'A soma entre {pri_numero} e {seg_numero} é igual a: {pri_numero + seg_numero}')"
   ]
  },
  {
   "cell_type": "code",
   "execution_count": 15,
   "id": "142bfea0",
   "metadata": {},
   "outputs": [
    {
     "name": "stdout",
     "output_type": "stream",
     "text": [
      "Qual o tipo de dados de 38 -  <class 'int'>\n",
      "Qual o tipo de dados de 38.0 -  <class 'float'>\n",
      "Qual o tipo de dados de True -  <class 'bool'>\n",
      "Qual o tipo de dados de \"Python\" -  <class 'str'>\n"
     ]
    }
   ],
   "source": [
    "# TIPOS DE DADO:\n",
    "print('Qual o tipo de dados de 38 - ', type(38))\n",
    "print('Qual o tipo de dados de 38.0 - ', type(38.0))\n",
    "print('Qual o tipo de dados de True - ', type(True))\n",
    "print('Qual o tipo de dados de \"Python\" - ', type('Python'))"
   ]
  },
  {
   "cell_type": "markdown",
   "id": "1e5211c6",
   "metadata": {},
   "source": [
    "## Desafios"
   ]
  },
  {
   "cell_type": "code",
   "execution_count": 16,
   "id": "50522396",
   "metadata": {},
   "outputs": [
    {
     "name": "stdout",
     "output_type": "stream",
     "text": [
      "Olá, Mundo!\n"
     ]
    }
   ],
   "source": [
    "# DESAFIO 001\n",
    "# Crie um programa que escreva \"Olá, Mundo!\" na tela.\n",
    "msg = 'Olá, Mundo!'\n",
    "print(msg)\n"
   ]
  },
  {
   "cell_type": "code",
   "execution_count": 17,
   "id": "699ed630",
   "metadata": {},
   "outputs": [
    {
     "name": "stdout",
     "output_type": "stream",
     "text": [
      "Digite seu nome? José\n",
      "É um prazer te conhecer José!\n"
     ]
    }
   ],
   "source": [
    "# DESAFIO 002\n",
    "# Faça um programa que leia o nome de uma pessoa e mostre uma mensagem de boas-vindas.\n",
    "nome = input('Digite seu nome? ')\n",
    "print('É um prazer te conhecer {}!'.format(nome))\n"
   ]
  },
  {
   "cell_type": "code",
   "execution_count": 21,
   "id": "d827e4a4",
   "metadata": {},
   "outputs": [
    {
     "name": "stdout",
     "output_type": "stream",
     "text": [
      "Digite um número: 7\n",
      "Digite outro número: 8\n",
      "A soma de 7 e 8 = 15.\n"
     ]
    }
   ],
   "source": [
    "# DESAFIO 003\n",
    "# Crie um programa que mostre dois números e mostre a soma entre eles.\n",
    "num1 = int(input('Digite um número: '))\n",
    "num2 = int(input('Digite outro número: '))\n",
    "soma = num1 + num2\n",
    "print(f'A soma de {num1} e {num2} = {soma}.')\n"
   ]
  },
  {
   "cell_type": "code",
   "execution_count": 30,
   "id": "5f48f5ec",
   "metadata": {},
   "outputs": [
    {
     "name": "stdout",
     "output_type": "stream",
     "text": [
      "Digite algo: Python\n",
      "O tipo primitivo desse valor é <class 'str'>\n",
      "Só tem espações? False\n",
      "É um número? False\n",
      "É um alfabético? True\n",
      "É alfanumérico? True\n",
      "Está em maiúsculas? False\n",
      "Está em minúsculas? False\n",
      "Está capitalizado? True\n"
     ]
    }
   ],
   "source": [
    "# DESAFIO 004\n",
    "# Faça um programa que leia algo pelo teclado e mostre na tela o seu tipo primitivo \n",
    "# e todas as infomrações possíveis sobre ele.\n",
    "algo = input('Digite algo: ')\n",
    "print(f'O tipo primitivo desse valor é {type(algo)}')\n",
    "print('Só tem espações?', algo.isspace())\n",
    "print('É um número?', algo.isnumeric())\n",
    "print('É um alfabético?', algo.isalpha())\n",
    "print('É alfanumérico?', algo.isalnum())\n",
    "print('Está em maiúsculas?', algo.isupper())\n",
    "print('Está em minúsculas?', algo.isnumeric())\n",
    "print('Está capitalizado?', algo.istitle())\n"
   ]
  },
  {
   "cell_type": "code",
   "execution_count": null,
   "id": "198a9677",
   "metadata": {},
   "outputs": [],
   "source": []
  },
  {
   "cell_type": "code",
   "execution_count": null,
   "id": "568028b3",
   "metadata": {},
   "outputs": [],
   "source": []
  }
 ],
 "metadata": {
  "kernelspec": {
   "display_name": "Python 3 (ipykernel)",
   "language": "python",
   "name": "python3"
  },
  "language_info": {
   "codemirror_mode": {
    "name": "ipython",
    "version": 3
   },
   "file_extension": ".py",
   "mimetype": "text/x-python",
   "name": "python",
   "nbconvert_exporter": "python",
   "pygments_lexer": "ipython3",
   "version": "3.9.12"
  }
 },
 "nbformat": 4,
 "nbformat_minor": 5
}
