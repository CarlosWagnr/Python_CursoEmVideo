{
 "cells": [
  {
   "cell_type": "markdown",
   "id": "c8d198e4",
   "metadata": {},
   "source": [
    "## Manipulando Texto"
   ]
  },
  {
   "cell_type": "markdown",
   "id": "09842a89",
   "metadata": {},
   "source": [
    "### Fatiamento"
   ]
  },
  {
   "cell_type": "code",
   "execution_count": 33,
   "id": "516ccb5b",
   "metadata": {},
   "outputs": [
    {
     "name": "stdout",
     "output_type": "stream",
     "text": [
      "s\n",
      "Curso\n",
      "Vídeo\n",
      "VdoPto\n",
      "Python\n",
      "VePh\n"
     ]
    }
   ],
   "source": [
    "# Fatiamento\n",
    "frase = 'Curso em Vídeo Python'\n",
    "print(frase[3])\n",
    "print(frase[:5]) # Exibe de 0 até a 4° posição.\n",
    "print(frase[9:14]) # Exibe da 9° posição até a 13°.\n",
    "print(frase[9:21:2]) # fatia da 9° posição até a 20° pulando de 2 em 2.\n",
    "print(frase[15:]) # Exibe da 15° posição até o final.\n",
    "print(frase[9::3]) # Começa do 9° posição até o final pulando de 3 em 3."
   ]
  },
  {
   "cell_type": "markdown",
   "id": "48f4735e",
   "metadata": {},
   "source": [
    "### Análise"
   ]
  },
  {
   "cell_type": "code",
   "execution_count": 15,
   "id": "202fa16b",
   "metadata": {},
   "outputs": [
    {
     "name": "stdout",
     "output_type": "stream",
     "text": [
      "Qual o tamanho da frase: 21\n",
      "Quantas vezes aparece a letra \"o\": 3\n",
      "Quantas vezes aparece a letra \"o\" de 0 até a 13°: 1\n",
      "Onde começa a palavra \"deo\": 11\n",
      "Onde começa a palavra \"android\": -1\n",
      "A palavra \"Curso\" tem no texto: True\n"
     ]
    }
   ],
   "source": [
    "# Análise\n",
    "print('Qual o tamanho da frase:', len(frase))\n",
    "print('Quantas vezes aparece a letra \"o\":', frase.count('o'))\n",
    "print('Quantas vezes aparece a letra \"o\" de 0 até a 13°:', frase.count('o', 0, 13))\n",
    "print('Onde começa a palavra \"deo\":', frase.find('deo'))\n",
    "print('Onde começa a palavra \"android\":', frase.find('android')) # -1 não encontrado.\n",
    "print('A palavra \"Curso\" tem no texto:', 'Curso' in frase)"
   ]
  },
  {
   "cell_type": "markdown",
   "id": "e92eb7e3",
   "metadata": {},
   "source": [
    "### Transformação"
   ]
  },
  {
   "cell_type": "code",
   "execution_count": 20,
   "id": "b1bc1d76",
   "metadata": {},
   "outputs": [
    {
     "name": "stdout",
     "output_type": "stream",
     "text": [
      "Curso em Vídeo Android\n",
      "CURSO EM VÍDEO PYTHON\n",
      "curso em vídeo python\n",
      "Curso em vídeo python\n",
      "Curso Em Vídeo Python\n"
     ]
    }
   ],
   "source": [
    "# Transfromação\n",
    "print(frase.replace('Python', 'Android')) # Troca 'Python' por 'Andoid'\n",
    "print(frase.upper())\n",
    "print(frase.lower())\n",
    "print(frase.capitalize())\n",
    "print(frase.title())"
   ]
  },
  {
   "cell_type": "code",
   "execution_count": 26,
   "id": "399fdc50",
   "metadata": {},
   "outputs": [
    {
     "name": "stdout",
     "output_type": "stream",
     "text": [
      "   Aprenda Python  \n",
      "Aprenda Python\n",
      "   Aprenda Python\n",
      "Aprenda Python  \n"
     ]
    }
   ],
   "source": [
    "# Transfromação\n",
    "frase2 = '   Aprenda Python  '\n",
    "print(frase2)\n",
    "print(frase2.strip()) # Remove os espaços do início e final.\n",
    "print(frase2.rstrip()) # Remove os espaços da direita.\n",
    "print(frase2.lstrip()) # Remove os espaços da esquerda."
   ]
  },
  {
   "cell_type": "markdown",
   "id": "9cf24cc4",
   "metadata": {},
   "source": [
    "### Divisão"
   ]
  },
  {
   "cell_type": "code",
   "execution_count": 32,
   "id": "15548a58",
   "metadata": {},
   "outputs": [
    {
     "name": "stdout",
     "output_type": "stream",
     "text": [
      "['Curso', 'em', 'Vídeo', 'Python']\n",
      "['Curs', ' em Víde', ' Pyth', 'n']\n"
     ]
    }
   ],
   "source": [
    "# Divisão\n",
    "print(frase.split()) # Divide a frase por padrão pelos espaços em lista.\n",
    "print(frase.split('o')) # Dividindo a frase por 'o' em lista.\n"
   ]
  },
  {
   "cell_type": "markdown",
   "id": "30feb5f4",
   "metadata": {},
   "source": [
    "### Junção"
   ]
  },
  {
   "cell_type": "code",
   "execution_count": 31,
   "id": "b56bfc6f",
   "metadata": {},
   "outputs": [
    {
     "name": "stdout",
     "output_type": "stream",
     "text": [
      "C-u-r-s-o- -e-m- -V-í-d-e-o- -P-y-t-h-o-n\n"
     ]
    }
   ],
   "source": [
    "# Junção\n",
    "print('-'.join(frase))"
   ]
  },
  {
   "cell_type": "code",
   "execution_count": 34,
   "id": "3b3ddf20",
   "metadata": {},
   "outputs": [
    {
     "name": "stdout",
     "output_type": "stream",
     "text": [
      "\n",
      "****** BEM VINDO AO CURSO DE PYTHON ******\n",
      "    - Tipos primitivos\n",
      "    - Operadores Aritméticos\n",
      "    - Utilizando Módulos\n",
      "    - Manipulando Textos\n",
      "\n"
     ]
    }
   ],
   "source": [
    "print(\"\"\"\n",
    "****** BEM VINDO AO CURSO DE PYTHON ******\n",
    "    - Tipos primitivos\n",
    "    - Operadores Aritméticos\n",
    "    - Utilizando Módulos\n",
    "    - Manipulando Textos\n",
    "\"\"\")"
   ]
  },
  {
   "cell_type": "markdown",
   "id": "97415982",
   "metadata": {},
   "source": [
    "## Desafios"
   ]
  },
  {
   "cell_type": "code",
   "execution_count": 19,
   "id": "575359b0",
   "metadata": {},
   "outputs": [
    {
     "name": "stdout",
     "output_type": "stream",
     "text": [
      "Digite seu nome completo: Pedro da Silva Cardoso\n",
      "Analisando seu nome...\n",
      "Seu nome em maiúsculas é PEDRO DA SILVA CARDOSO\n",
      "Seu nome em minúsculas é pedro da silva cardoso\n",
      "Seu nome tem ao todo tem 19 letras\n",
      "Seu primeiro nome é Pedro e ele tem 5 letras\n"
     ]
    }
   ],
   "source": [
    "# Desafio 022\n",
    "# Crie um programa que leia o nome de uma pessoa e mostre:\n",
    "# O nome com todas as letras maiúsculas\n",
    "# O nome com todas as letras minúsculas\n",
    "# Quantas letras ao todo (sem considerar espaços).\n",
    "# Quantas letras tem o primeiro nome.\n",
    "nm = str(input('Digite seu nome completo: ')).strip()\n",
    "print('Analisando seu nome...')\n",
    "print('Seu nome em maiúsculas é {}'.format(nm.upper()))\n",
    "print('Seu nome em minúsculas é {}'.format(nm.lower()))\n",
    "print('Seu nome tem ao todo tem {} letras'.format(len(nm) - nm.count(' ')))\n",
    "#print('Seu primeiro nome tem {} letras'.format(nm.find(' ')))\n",
    "sep_nm = nm.split()\n",
    "print('Seu primeiro nome é {} e ele tem {} letras'.format(sep_nm[0], len(sep_nm[0])))"
   ]
  },
  {
   "cell_type": "code",
   "execution_count": 27,
   "id": "bb9468b5",
   "metadata": {},
   "outputs": [
    {
     "name": "stdout",
     "output_type": "stream",
     "text": [
      "Informe um número: 3453\n",
      "Analisando o número 3453\n",
      "Unidade: 3\n",
      "Dezena: 5\n",
      "Centena: 4\n",
      "Milhar: 3\n"
     ]
    }
   ],
   "source": [
    "# Desafio 023\n",
    "# Faça um programa que leia um número de 0 a 9999 e mostre na tela cada um dos dígitos separados.\n",
    "# Ex: 1834 = unidade: 4, dezena: 3, centena: 8, milhar: 1.\n",
    "num = int(input('Informe um número: '))\n",
    "print('Analisando o número {}'.format(num))\n",
    "u = num // 1 % 10\n",
    "d = num // 10 % 10\n",
    "c = num // 100 % 10\n",
    "m = num // 1000 % 10\n",
    "print('Unidade: {}'.format(u))\n",
    "print('Dezena: {}'.format(d))\n",
    "print('Centena: {}'.format(c))\n",
    "print('Milhar: {}'.format(m))"
   ]
  },
  {
   "cell_type": "code",
   "execution_count": 33,
   "id": "afdb4df1",
   "metadata": {},
   "outputs": [
    {
     "name": "stdout",
     "output_type": "stream",
     "text": [
      "Em que cidade você nasceu?       santo Inácio\n",
      "True\n"
     ]
    }
   ],
   "source": [
    "# Desafio 024\n",
    "# Crie um programa que leia o nome de uma cidade e diga se ela começa ou não com o nome \"SANTO\".\n",
    "cid = str(input('Em que cidade você nasceu? ')).strip().upper()\n",
    "print(cid.startswith('SANTO'))"
   ]
  },
  {
   "cell_type": "code",
   "execution_count": 37,
   "id": "fcf48bcd",
   "metadata": {},
   "outputs": [
    {
     "name": "stdout",
     "output_type": "stream",
     "text": [
      "Qual é seu nome completo: Mario da Silva Mendonça\n",
      "Mario Da Silva Mendonça\n",
      "Seu nome tem Silva? True\n"
     ]
    }
   ],
   "source": [
    "# Desafio 025\n",
    "# Crie um programa que leia o nome de uma pessoa e diga se ela tem \"SILVA\" no nome.\n",
    "nome = str(input('Qual é seu nome completo: ')).strip().title()\n",
    "print('Seu nome tem Silva? {}'.format('Silva' in nome))"
   ]
  },
  {
   "cell_type": "code",
   "execution_count": 43,
   "id": "477f1629",
   "metadata": {},
   "outputs": [
    {
     "name": "stdout",
     "output_type": "stream",
     "text": [
      "Digite uma frase: Arara Azul\n",
      "A letra \"A\" aparece 4 vezes na frase.\n",
      "A primeira letra \"A\" apareceu na posição 1\n",
      "A última letra \"A\" apareceu na posição 7\n"
     ]
    }
   ],
   "source": [
    "# Desafio 026\n",
    "# Faça um programa que leia uma frase pelo teclado e mostre:\n",
    "# Quantas vezes aparece a letra \"A\".\n",
    "# Em que posição ela aparece a primeira vez.\n",
    "# Em que posição ela aparece a última vez.\n",
    "frs = str(input('Digite uma frase: ')).strip().upper()\n",
    "print('A letra \"A\" aparece {} vezes na frase.'.format(frs.count('A')))\n",
    "print('A primeira letra \"A\" apareceu na posição {}'.format(frs.find('A') + 1))\n",
    "print('A última letra \"A\" apareceu na posição {}'.format(frs.rfind('A') + 1))"
   ]
  },
  {
   "cell_type": "code",
   "execution_count": 46,
   "id": "1bc85253",
   "metadata": {},
   "outputs": [
    {
     "name": "stdout",
     "output_type": "stream",
     "text": [
      "Digite seu nome completo: Ana Maria de Souza Cardoso Nogueira\n",
      "Muito prazer em te conhecer!\n",
      "Seu primeiro nome é Ana\n",
      "Seu último nome é Nogueira\n"
     ]
    }
   ],
   "source": [
    "# Desafio 027\n",
    "# Faça um programa que leia o nome completo de uma pessoa, \n",
    "# mostrando em seguida o primeiro e o último nome separadamente.\n",
    "nm_cplt = str(input('Digite seu nome completo: '))\n",
    "print('Muito prazer em te conhecer!')\n",
    "sep_nome = nm_cplt.split()\n",
    "print('Seu primeiro nome é {}'.format(sep_nome[0]))\n",
    "print('Seu último nome é {}'.format(sep_nome[-1]))"
   ]
  },
  {
   "cell_type": "code",
   "execution_count": null,
   "id": "e49c95cf",
   "metadata": {},
   "outputs": [],
   "source": []
  },
  {
   "cell_type": "code",
   "execution_count": null,
   "id": "457a974a",
   "metadata": {},
   "outputs": [],
   "source": []
  },
  {
   "cell_type": "code",
   "execution_count": null,
   "id": "556f2a5d",
   "metadata": {},
   "outputs": [],
   "source": []
  }
 ],
 "metadata": {
  "kernelspec": {
   "display_name": "Python 3 (ipykernel)",
   "language": "python",
   "name": "python3"
  },
  "language_info": {
   "codemirror_mode": {
    "name": "ipython",
    "version": 3
   },
   "file_extension": ".py",
   "mimetype": "text/x-python",
   "name": "python",
   "nbconvert_exporter": "python",
   "pygments_lexer": "ipython3",
   "version": "3.9.12"
  }
 },
 "nbformat": 4,
 "nbformat_minor": 5
}
