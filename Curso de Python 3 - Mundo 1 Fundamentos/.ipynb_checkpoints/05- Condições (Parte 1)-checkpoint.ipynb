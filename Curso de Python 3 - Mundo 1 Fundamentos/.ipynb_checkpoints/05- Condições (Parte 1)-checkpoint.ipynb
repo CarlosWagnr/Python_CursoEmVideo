{
 "cells": [
  {
   "cell_type": "markdown",
   "id": "0556c6c6",
   "metadata": {},
   "source": [
    "## Condições (Parte 1)"
   ]
  },
  {
   "cell_type": "code",
   "execution_count": 8,
   "id": "de04263c",
   "metadata": {},
   "outputs": [
    {
     "name": "stdout",
     "output_type": "stream",
     "text": [
      "Qual é seu nome? Maria\n",
      "Seu nome é tão normal!\n",
      "Bom dia, Maria!\n"
     ]
    }
   ],
   "source": [
    "nome = str(input('Qual é seu nome? '))\n",
    "if nome == 'Wagner':\n",
    "    print('Que nome lindo você tem!')\n",
    "else:\n",
    "    print('Seu nome é tão normal!')\n",
    "print(f'Bom dia, {nome}!')"
   ]
  },
  {
   "cell_type": "code",
   "execution_count": 9,
   "id": "f07aade0",
   "metadata": {},
   "outputs": [
    {
     "name": "stdout",
     "output_type": "stream",
     "text": [
      "Digite a primeira nota: 4.5\n",
      "Digite a segunda nota: 7.5\n",
      "A sua média foi 6.0\n",
      "Sua média foi boa! PARABÉNS!\n"
     ]
    }
   ],
   "source": [
    "n1 = float(input('Digite a primeira nota: '))\n",
    "n2 = float(input('Digite a segunda nota: '))\n",
    "m = (n1 + n2) / 2\n",
    "print('A sua média foi {:.1f}'.format(m))\n",
    "if m >= 6.0:\n",
    "    print('Sua média foi boa! PARABÉNS!')\n",
    "else:\n",
    "    print('Sua média foi ruim! ESTUDE MAIS!')"
   ]
  },
  {
   "cell_type": "code",
   "execution_count": 3,
   "id": "19d82fee",
   "metadata": {},
   "outputs": [
    {
     "name": "stdout",
     "output_type": "stream",
     "text": [
      "Quantos anos tem seu carro? 2\n",
      "carro novo\n",
      "--- FIM ---\n"
     ]
    }
   ],
   "source": [
    "tempo = int(input('Quantos anos tem seu carro? '))\n",
    "if tempo <= 3:\n",
    "    print('carro novo')\n",
    "else:\n",
    "    print('carro velho')\n",
    "print('--- FIM ---')"
   ]
  },
  {
   "cell_type": "markdown",
   "id": "adb8852b",
   "metadata": {},
   "source": [
    "### Condição Simplificada"
   ]
  },
  {
   "cell_type": "code",
   "execution_count": 4,
   "id": "b5ee0d9e",
   "metadata": {},
   "outputs": [
    {
     "name": "stdout",
     "output_type": "stream",
     "text": [
      "Quantos anos tem seu carro? 4\n",
      "carro velho\n",
      "--- FIM ---\n"
     ]
    }
   ],
   "source": [
    "tempo = int(input('Quantos anos tem seu carro? '))\n",
    "print('carro novo' if tempo <= 3 else 'carro velho')\n",
    "print('--- FIM ---')"
   ]
  },
  {
   "cell_type": "markdown",
   "id": "f59e2c1d",
   "metadata": {},
   "source": [
    "## Desafios"
   ]
  },
  {
   "cell_type": "code",
   "execution_count": null,
   "id": "0ada7b63",
   "metadata": {},
   "outputs": [],
   "source": [
    "# Desafio 028\n",
    "# Escreva um programa que faça o computador 'pensar' em um número inteiro entre 0 e 5\n",
    "# e peça para o usuário tentar descobrir qual foi o número escolhido pelo computador.\n",
    "# O programa deverá escrever na tela se o usuário venceu ou perdeu.\n"
   ]
  },
  {
   "cell_type": "code",
   "execution_count": null,
   "id": "9881b914",
   "metadata": {},
   "outputs": [],
   "source": [
    "# Desafio 029\n",
    "# Escreva um programa que leia a velocidade de um carro. \n",
    "# Se ele ultrapassar 80km/h, mostre uma mensagem dizendo que ele foi multado.\n",
    "# A multa vai custar R$7,00 por cada km acima do limite.\n"
   ]
  },
  {
   "cell_type": "code",
   "execution_count": null,
   "id": "a81f1d63",
   "metadata": {},
   "outputs": [],
   "source": [
    "# Desafio 030\n",
    "# Crie um programa que leia um número inteiro e mostre na tela se ele é par ou impar.\n"
   ]
  },
  {
   "cell_type": "code",
   "execution_count": null,
   "id": "04e09682",
   "metadata": {},
   "outputs": [],
   "source": [
    "# Desafio 031\n",
    "# Desenvolva um programa que pergunte a distância de uma viagem em km.\n",
    "# Calcule o preço da passagem, cobrando R$0,50 por Km para viagens de até 200Km \n",
    "# e R$0,40 para viagens mais longas.\n"
   ]
  },
  {
   "cell_type": "code",
   "execution_count": null,
   "id": "b37dd978",
   "metadata": {},
   "outputs": [],
   "source": [
    "# Desafio 032\n",
    "# Faça um programa que leia um ano qualquer e mostre se ele é 'BISSEXTO'.\n"
   ]
  },
  {
   "cell_type": "code",
   "execution_count": null,
   "id": "760891d7",
   "metadata": {},
   "outputs": [],
   "source": [
    "# Desafio 033\n",
    "# Faça um programa que leia três números e mostre qual é o 'maior' e qual é o 'menor'.\n"
   ]
  },
  {
   "cell_type": "code",
   "execution_count": null,
   "id": "c4410625",
   "metadata": {},
   "outputs": [],
   "source": [
    "# Desafio 034\n",
    "# Escreva um programa que pergunte o salário de um funcionário e calcule o valor do seu aumento.\n",
    "# Para salários maiores a R$1.250,00, calcule um aumento de 10%.\n",
    "# Para os inferiores ou iguais, o aumento é de 15%.\n"
   ]
  },
  {
   "cell_type": "code",
   "execution_count": null,
   "id": "4d3907c1",
   "metadata": {},
   "outputs": [],
   "source": [
    "# Desafio 035\n",
    "# Desenvolva um programa que leia o comprimento de três retas e diga ao usuário \n",
    "# se elas podem ou nãoformar um triângulo.\n"
   ]
  },
  {
   "cell_type": "code",
   "execution_count": null,
   "id": "08d57ca3",
   "metadata": {},
   "outputs": [],
   "source": []
  }
 ],
 "metadata": {
  "kernelspec": {
   "display_name": "Python 3 (ipykernel)",
   "language": "python",
   "name": "python3"
  },
  "language_info": {
   "codemirror_mode": {
    "name": "ipython",
    "version": 3
   },
   "file_extension": ".py",
   "mimetype": "text/x-python",
   "name": "python",
   "nbconvert_exporter": "python",
   "pygments_lexer": "ipython3",
   "version": "3.9.12"
  }
 },
 "nbformat": 4,
 "nbformat_minor": 5
}
